import pandas as pd
from sklearn.model_selection import train_test_split
from sklearn.ensemble import RandomForestRegressor
from sklearn.tree import DecisionTreeRegressor
from sklearn.svm import SVR
from sklearn.linear_model import LinearRegression
from sklearn.neighbors import KNeighborsRegressor
from sklearn.metrics import mean_squared_error, r2_score
from sklearn.preprocessing import OneHotEncoder
from sklearn.compose import ColumnTransformer
from sklearn.pipeline import Pipeline

# Load the encoded data
data = pd.read_csv('encoded.csv')

# Assume the target variable is 'price(USD)'
X = data.drop('price(USD)', axis=1)  # Features
y = data['price(USD)']  # Target variable

# Identify categorical columns for encoding
categorical_cols = X.select_dtypes(include=['object']).columns.tolist()

# Create a Column Transformer for encoding categorical features
preprocessor = ColumnTransformer(
    transformers=[
        ('cat', OneHotEncoder(handle_unknown='ignore'), categorical_cols)
    ],
    remainder='passthrough'  # Keep other columns unchanged
)

# Create a pipeline to preprocess the data and fit the model
def create_pipeline(model):
    return Pipeline(steps=[('preprocessor', preprocessor),
                            ('model', model)])

# Initialize models
models = {
    'Random Forest': RandomForestRegressor(),
    'Decision Tree': DecisionTreeRegressor(),
    'SVM': SVR(),
    'Linear Regression': LinearRegression(),
    'KNN': KNeighborsRegressor()
}

# Split the data into training, validation, and testing sets
X_train, X_val, y_train, y_val = train_test_split(X, y, test_size=0.2, random_state=42)

# Define a function to evaluate a model
def evaluate_model(model, X_train, y_train, X_val, y_val):
    try:
        model.fit(X_train, y_train)
        y_pred = model.predict(X_val)
        
        # Calculate R^2 score and MSE
        r2 = r2_score(y_val, y_pred)
        mse = mean_squared_error(y_val, y_pred)
        
        return r2, mse
    except Exception as e:
        return None, str(e)

# Evaluate each model
results = {}

for model_name, model in models.items():
    model_pipeline = create_pipeline(model)  # Create a pipeline for each model
    r2, mse = evaluate_model(model_pipeline, X_train, y_train, X_val, y_val)
    results[model_name] = {'R^2 Score': r2, 'MSE': mse}

# Display results
results_df = pd.DataFrame(results).T
print(results_df)

